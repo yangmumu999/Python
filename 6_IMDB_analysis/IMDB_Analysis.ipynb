{
 "cells": [
  {
   "cell_type": "markdown",
   "metadata": {},
   "source": [
    "# IMDb Analysis"
   ]
  },
  {
   "cell_type": "markdown",
   "metadata": {},
   "source": []
  },
  {
   "cell_type": "markdown",
   "metadata": {},
   "source": [
    "# Load, Inspect, & Query Movie & Ratings Data"
   ]
  },
  {
   "cell_type": "code",
   "execution_count": 2,
   "metadata": {},
   "outputs": [],
   "source": [
    "\"\"\" Q1: \n",
    "Load and read the 'imdb.xlsx' file. Read the 'imdb' sheet into a DataFrame, df.\n",
    "\"\"\"\n",
    "\n",
    "import pandas as pd\n",
    "\n",
    "# your code here\n",
    "xls = pd.ExcelFile('imdb.xlsx')\n",
    "df = xls.parse('imdb')"
   ]
  },
  {
   "cell_type": "code",
   "execution_count": null,
   "metadata": {},
   "outputs": [],
   "source": []
  },
  {
   "cell_type": "code",
   "execution_count": 3,
   "metadata": {},
   "outputs": [
    {
     "name": "stdout",
     "output_type": "stream",
     "text": [
      "(178, 8)\n"
     ]
    }
   ],
   "source": [
    "\"\"\" Q2: \n",
    "Store the dimensions of the DataFrame as a tuple in a variable called 'shape' and print it.\n",
    "\n",
    "Hint: A tuple is made up of comma separated values inside parenthesis.  e.g. (1, 2)\n",
    "\"\"\"\n",
    "\n",
    "# your code here\n",
    "shape = df.shape\n",
    "print(shape)"
   ]
  },
  {
   "cell_type": "code",
   "execution_count": null,
   "metadata": {},
   "outputs": [],
   "source": []
  },
  {
   "cell_type": "code",
   "execution_count": 4,
   "metadata": {},
   "outputs": [
    {
     "name": "stdout",
     "output_type": "stream",
     "text": [
      "Index(['movie_title', 'director_id', 'country_id', 'content_rating',\n",
      "       'title_year', 'imdb_score', 'gross', 'duration'],\n",
      "      dtype='object')\n",
      "movie_title        object\n",
      "director_id         int64\n",
      "country_id          int64\n",
      "content_rating     object\n",
      "title_year          int64\n",
      "imdb_score        float64\n",
      "gross               int64\n",
      "duration            int64\n",
      "dtype: object\n"
     ]
    }
   ],
   "source": [
    "\"\"\" Q3: \n",
    "Store the column titles and the types of data in variables named 'columns' and 'dtypes', then print them.\n",
    "\"\"\"\n",
    "\n",
    "# your code here\n",
    "columns = df.columns\n",
    "print(columns)\n",
    "dtypes = df.dtypes\n",
    "print(dtypes)"
   ]
  },
  {
   "cell_type": "code",
   "execution_count": null,
   "metadata": {},
   "outputs": [],
   "source": []
  },
  {
   "cell_type": "code",
   "execution_count": 5,
   "metadata": {},
   "outputs": [],
   "source": [
    "\"\"\" Q4: \n",
    "Extract the first 10 rows of data; store them in a variable called first10\n",
    "\"\"\"\n",
    "\n",
    "# your code here\n",
    "first10 = df.head(10)"
   ]
  },
  {
   "cell_type": "code",
   "execution_count": null,
   "metadata": {},
   "outputs": [],
   "source": []
  },
  {
   "cell_type": "code",
   "execution_count": 6,
   "metadata": {},
   "outputs": [],
   "source": [
    "\"\"\" Q5: \n",
    "Extract the first 5 rows of data; store them in a variable called first5\n",
    "\"\"\"\n",
    "\n",
    "# your code here\n",
    "first5 = df.head()"
   ]
  },
  {
   "cell_type": "code",
   "execution_count": null,
   "metadata": {},
   "outputs": [],
   "source": []
  },
  {
   "cell_type": "code",
   "execution_count": 7,
   "metadata": {},
   "outputs": [],
   "source": [
    "\"\"\" Q6: \n",
    "Import the \"directors\" and \"countries\" sheets into their own DataFrames, df_directors and df_countries.\n",
    "\"\"\"\n",
    "\n",
    "# your code here\n",
    "df_directors = xls.parse('directors')\n",
    "df_countries = xls.parse('countries')"
   ]
  },
  {
   "cell_type": "code",
   "execution_count": null,
   "metadata": {},
   "outputs": [],
   "source": []
  },
  {
   "cell_type": "code",
   "execution_count": 8,
   "metadata": {},
   "outputs": [],
   "source": [
    "\"\"\" Q7: \n",
    "Check the \"directors\" sheet\n",
    "1. Count how many records there are based on the \"id\" column. \n",
    "\n",
    "   To get the number of records per \"id\", use the value_counts method.\n",
    "   https://pandas.pydata.org/docs/reference/api/pandas.DataFrame.value_counts.html\n",
    "   Store the result in a variable named count.\n",
    "   \n",
    "2. Remove the duplicates from the directors dataframe and store the result in a variable called df_directors_clean.\n",
    "\"\"\"\n",
    "\n",
    "# your code here\n",
    "count = df_directors.value_counts()\n",
    "df_directors_clean = df_directors.drop_duplicates()"
   ]
  },
  {
   "cell_type": "code",
   "execution_count": null,
   "metadata": {},
   "outputs": [],
   "source": []
  },
  {
   "cell_type": "markdown",
   "metadata": {},
   "source": [
    "# Join & Filter Movie & Ratings Data"
   ]
  },
  {
   "cell_type": "code",
   "execution_count": 9,
   "metadata": {},
   "outputs": [
    {
     "data": {
      "text/plain": [
       "(178, 12)"
      ]
     },
     "execution_count": 9,
     "metadata": {},
     "output_type": "execute_result"
    }
   ],
   "source": [
    "\"\"\" Q1: \n",
    "Join three Dataframes: df, df_directors_clean, and df_countries with an inner join.\n",
    "Store the joined DataFrames in df.\n",
    "\"\"\"\n",
    "\n",
    "# your code here\n",
    "df = pd.merge(left = df, right = df_directors_clean, how = 'inner', left_on = 'director_id', right_on = 'id')\n",
    "df = pd.merge(left = df, right = df_countries, how = 'inner', left_on = 'country_id', right_on = 'id')\n",
    "# After the join, the resulting Dataframe should have 12 columns.\n",
    "df.shape"
   ]
  },
  {
   "cell_type": "code",
   "execution_count": null,
   "metadata": {},
   "outputs": [],
   "source": []
  },
  {
   "cell_type": "code",
   "execution_count": 10,
   "metadata": {},
   "outputs": [
    {
     "name": "stdout",
     "output_type": "stream",
     "text": [
      "0    The Shawshank RedemptionÊ\n",
      "1              The Green MileÊ\n",
      "2               The GodfatherÊ\n",
      "3      The Godfather: Part IIÊ\n",
      "4              Apocalypse NowÊ\n",
      "5             The Dark KnightÊ\n",
      "6                   InceptionÊ\n",
      "7                InterstellarÊ\n",
      "8                     MementoÊ\n",
      "9                The PrestigeÊ\n",
      "Name: movie_title, dtype: object\n"
     ]
    }
   ],
   "source": [
    "\"\"\" Q2: \n",
    "Save the first ten rows of movie titles(only movie titles column) in a variable called first10, then print it.\n",
    "\"\"\"\n",
    "\n",
    "# your code here\n",
    "first10 = df[\"movie_title\"].head(10)\n",
    "print(first10)"
   ]
  },
  {
   "cell_type": "code",
   "execution_count": null,
   "metadata": {},
   "outputs": [],
   "source": []
  },
  {
   "cell_type": "code",
   "execution_count": 11,
   "metadata": {},
   "outputs": [
    {
     "data": {
      "text/plain": [
       "0    The Shawshank Redemption\n",
       "1              The Green Mile\n",
       "2               The Godfather\n",
       "3      The Godfather: Part II\n",
       "4              Apocalypse Now\n",
       "5             The Dark Knight\n",
       "6                   Inception\n",
       "7                Interstellar\n",
       "8                     Memento\n",
       "9                The Prestige\n",
       "Name: movie_title, dtype: object"
      ]
     },
     "execution_count": 11,
     "metadata": {},
     "output_type": "execute_result"
    }
   ],
   "source": [
    "\"\"\" Q3: \n",
    "There's an extra character at the end of each movie title. \n",
    "\n",
    "Remove it from the data using str.replace.\n",
    "https://pandas.pydata.org/docs/reference/api/pandas.Series.str.replace.html\n",
    "\n",
    "And print the first ten rows of movie titles again. \n",
    "\"\"\"\n",
    "\n",
    "# your code here\n",
    "#movie_title = df[\"movie_title\"]\n",
    "#df.replace(to_replace = 'Ê', value = '')\n",
    "df['movie_title'] = df['movie_title'].str.replace('Ê', '')\n",
    "df[\"movie_title\"].head(10)"
   ]
  },
  {
   "cell_type": "code",
   "execution_count": 12,
   "metadata": {},
   "outputs": [],
   "source": [
    "\"\"\" Q4:\n",
    "Who is the director with the most movies? First get the number of movies per \"director_name\".\n",
    "\n",
    "   To get the number of records per \"director_name\", use the value_counts method.\n",
    "   https://pandas.pydata.org/docs/reference/api/pandas.DataFrame.value_counts.html\n",
    "   \n",
    "Then extract the director with the highest count and save in a variable called \"director_with_most\".\n",
    "\"\"\"\n",
    "\n",
    "# your code here\n",
    "director_movie_count = df.value_counts(subset = 'director_name')\n",
    "for value in director_movie_count.head(1).keys():\n",
    "    director_with_most = value"
   ]
  },
  {
   "cell_type": "code",
   "execution_count": null,
   "metadata": {},
   "outputs": [],
   "source": []
  },
  {
   "cell_type": "code",
   "execution_count": 13,
   "metadata": {},
   "outputs": [
    {
     "name": "stdout",
     "output_type": "stream",
     "text": [
      "              movie_title  imdb_score\n",
      "5         The Dark Knight         9.0\n",
      "6               Inception         8.8\n",
      "7            Interstellar         8.6\n",
      "8                 Memento         8.5\n",
      "9            The Prestige         8.5\n",
      "10  The Dark Knight Rises         8.5\n",
      "11          Batman Begins         8.3\n"
     ]
    }
   ],
   "source": [
    "\"\"\"Q5:\n",
    "Save all of this director's movies and their imdb_score in a variable called all_movies_ratings, then print this variable.\n",
    "(The director with the most movies you got from the last question.)\n",
    "\"\"\"\n",
    "\n",
    "# your code here\n",
    "all_movies_ratings = df[df['director_name'] == director_with_most][['movie_title', 'imdb_score']]\n",
    "print(all_movies_ratings)"
   ]
  },
  {
   "cell_type": "markdown",
   "metadata": {},
   "source": [
    "# Summarize Movie & Ratings Data"
   ]
  },
  {
   "cell_type": "code",
   "execution_count": 14,
   "metadata": {},
   "outputs": [
    {
     "name": "stdout",
     "output_type": "stream",
     "text": [
      "                sum            \n",
      "              gross  imdb_score\n",
      "count  1.780000e+02  178.000000\n",
      "mean   1.030402e+08    8.294382\n",
      "std    1.242549e+08    0.266960\n",
      "min    8.060000e+03    8.000000\n",
      "25%    1.318510e+07    8.100000\n",
      "50%    5.194371e+07    8.200000\n",
      "75%    1.522436e+08    8.475000\n",
      "max    6.232795e+08    9.300000\n"
     ]
    }
   ],
   "source": [
    "\"\"\" Q1: \n",
    "Get the summary statistics for imdb_score and gross, then use the describe() function to summarize this visually. Save the\n",
    "result in a variable called score_gross_description and print it.\n",
    "\"\"\"\n",
    "\n",
    "# your code here\n",
    "import numpy as np\n",
    "pivot_table = pd.pivot_table(df, \n",
    "                             index=[\"movie_title\"], \n",
    "                             values=[\"imdb_score\", \"gross\"], \n",
    "                             aggfunc=[np.sum])\n",
    "score_gross_description = pivot_table.describe()\n",
    "print(score_gross_description)"
   ]
  },
  {
   "cell_type": "code",
   "execution_count": null,
   "metadata": {},
   "outputs": [],
   "source": []
  },
  {
   "cell_type": "code",
   "execution_count": 15,
   "metadata": {},
   "outputs": [
    {
     "name": "stdout",
     "output_type": "stream",
     "text": [
      "8.6\n"
     ]
    }
   ],
   "source": [
    "\"\"\"Q2:\n",
    "What is the average rating of the director Christopher Nolan's movies? Save this value in a variable called nolan_mean and \n",
    "print.\n",
    "\"\"\"\n",
    "\n",
    "# your code here\n",
    "nolan_mean = all_movies_ratings[\"imdb_score\"].mean()\n",
    "print(nolan_mean)"
   ]
  },
  {
   "cell_type": "code",
   "execution_count": 16,
   "metadata": {},
   "outputs": [
    {
     "name": "stdout",
     "output_type": "stream",
     "text": [
      "              movie_title  director_id  country_id content_rating  title_year  \\\n",
      "128         Spirited Away           46           4             PG        2001   \n",
      "129     Princess Mononoke           46           4          PG-13        1997   \n",
      "130  Howl's Moving Castle           46           4             PG        2004   \n",
      "\n",
      "     imdb_score     gross  duration  id_x   director_name  id_y country  \n",
      "128         8.6  10049886       125    46  Hayao Miyazaki     4   Japan  \n",
      "129         8.4   2298191       134    46  Hayao Miyazaki     4   Japan  \n",
      "130         8.2   4710455       119    46  Hayao Miyazaki     4   Japan  \n"
     ]
    }
   ],
   "source": [
    "\"\"\"Q3:\n",
    "Select the non-USA movies made after 1960 by Hayao Miyazaki.\n",
    "Save the result in a DataFrame called 'miyazaki', then print it.\n",
    "\n",
    "Here are the steps:\n",
    "1. Query the data ('df' DataFrame) based on the following conditions:\n",
    "- Non-USA movies (country_id != 1)\n",
    "- Movies made after 1960 (title_year > 1960)\n",
    "- Movies made by director Hayao Miyazaki (director_id == 46)\n",
    "2. Save the filtered data in a DataFrame called 'miyazaki' and print it\n",
    "\"\"\"\n",
    "\n",
    "# your code here\n",
    "Non_USA = df['country_id'] != 1\n",
    "After_1960 = df['title_year'] > 1960\n",
    "Hayao = df['director_id'] == 46\n",
    "miyazaki = df[Non_USA & After_1960 & Hayao]\n",
    "print(miyazaki)"
   ]
  },
  {
   "cell_type": "code",
   "execution_count": 17,
   "metadata": {},
   "outputs": [],
   "source": [
    "\"\"\"Q4: \n",
    "Create a Pivot Table that shows the median rating for each director, grouped by their respective countries. Name your variable\n",
    "'pivot_agg'\n",
    "\"\"\"\n",
    "\n",
    "# your code here\n",
    "pivot_agg = pd.pivot_table(df, \n",
    "                             index=[\"country\", \"director_name\"], \n",
    "                             values=[\"imdb_score\"], \n",
    "                             aggfunc=[np.mean])\n"
   ]
  },
  {
   "cell_type": "code",
   "execution_count": 18,
   "metadata": {},
   "outputs": [
    {
     "name": "stdout",
     "output_type": "stream",
     "text": [
      "49    171\n",
      "Name: duration, dtype: int64\n"
     ]
    }
   ],
   "source": [
    "\"\"\"Q5:\n",
    "How long did the movie Gladiator aim to keep your attention? Save the series with this information\n",
    "in a variable called 'gladiator_duration', then print it.\n",
    "\"\"\"\n",
    "\n",
    "# your code here\n",
    "gladiator = df[df['movie_title'] == 'Gladiator']\n",
    "gladiator_duration = gladiator['duration']\n",
    "print(gladiator_duration)"
   ]
  },
  {
   "cell_type": "code",
   "execution_count": null,
   "metadata": {},
   "outputs": [],
   "source": []
  },
  {
   "cell_type": "markdown",
   "metadata": {},
   "source": [
    "# Visualize Movie & Ratings Data"
   ]
  },
  {
   "cell_type": "code",
   "execution_count": 19,
   "metadata": {
    "scrolled": true
   },
   "outputs": [
    {
     "data": {
      "image/png": "[encoded data removed]",
      "text/plain": [
       "<Figure size 432x288 with 1 Axes>"
      ]
     },
     "metadata": {
      "needs_background": "light"
     },
     "output_type": "display_data"
    }
   ],
   "source": [
    "\"\"\"Q1: \n",
    "Is how much a movie makes indicative of how good it is?\n",
    "Make a simple scatter plot comparing gross to imdb_score for movies during or after 2000 (title_year >= 2000) \n",
    "and before 2000 (title_year < 2000).\n",
    "It may be useful to scale the x axis demarking gross. (Hint: Divide the gross amount by 1,000,000.)\n",
    "Remember to put a legend indicating which color corresponds to which years.\n",
    "What is your verdict?\n",
    "\n",
    "Save your plot in a variable called plt1, and your dataframes in variables called df_after_2000 and df_before_2000\n",
    "\"\"\"\n",
    "\n",
    "import matplotlib.pyplot as plt1\n",
    "\n",
    "\n",
    "# your code here\n",
    "df['gross'] = df['gross'] / 1000000.\n",
    "after = df['title_year'] >= 2000\n",
    "df_after_2000 = df[after]\n",
    "before = df['title_year'] < 2000\n",
    "df_before_2000 = df[before]\n",
    "plt1.scatter(df_after_2000['gross'], df_after_2000['imdb_score'],\n",
    "            marker = 'o',\n",
    "            color = 'r',\n",
    "            alpha = 0.7,\n",
    "            s = 50,\n",
    "            label = ['Movies after 2000']\n",
    ")\n",
    "\n",
    "plt1.scatter(df_before_2000['gross'], df_before_2000['imdb_score'],\n",
    "            marker = '^',\n",
    "            color = 'b',\n",
    "            alpha = 0.7,\n",
    "            s = 50,\n",
    "            label = ['Movies before 2000']\n",
    ")\n",
    "plt1.xlabel('Gross / million USD')\n",
    "plt1.ylabel('Imdb score')\n",
    "plt1.legend(loc = 'upper left')\n",
    "plt1.title('Comparison of imdb score with gross')\n",
    "axes = plt1.gca()\n",
    "plt1.show()"
   ]
  },
  {
   "cell_type": "code",
   "execution_count": 200,
   "metadata": {},
   "outputs": [
    {
     "data": {
      "image/png": "[encoded data removed]",
      "text/plain": [
       "<Figure size 432x288 with 1 Axes>"
      ]
     },
     "metadata": {
      "needs_background": "light"
     },
     "output_type": "display_data"
    }
   ],
   "source": [
    "\"\"\"Q2: \n",
    "Using numpy and pyplot, make a side-by-side histogram that shows the score distribution(x-axis) vs. count(y-axis) of R-Rated movies and PG-13 ones.\n",
    "Describe your plot.\n",
    "\n",
    "Save your plot in a variable called plt2, and your dataframes in variables called df_R and df_PG13\n",
    "\"\"\"\n",
    "\n",
    "import matplotlib.pyplot as plt2\n",
    "\n",
    "\n",
    "# your code here\n",
    "R_movie = df['content_rating'] == 'R'\n",
    "df_R = df[R_movie]\n",
    "PG13 = df['content_rating'] == 'PG-13'\n",
    "df_PG13 = df[PG13]\n",
    "series_R = df_R['imdb_score']\n",
    "series_PG13 = df_PG13['imdb_score']\n",
    "plt2.hist(\n",
    "    [series_R, series_PG13],\n",
    "    alpha=0.7,\n",
    "    color=[\"red\", \"blue\"],\n",
    "    label=[\"R\", \"PG-13\"],\n",
    "    bins=\"auto\"\n",
    ")\n",
    "\n",
    "plt2.xlabel(\"Imdb score\")\n",
    "plt2.ylabel(\"Number of Rating Movies\")\n",
    "plt2.legend(loc='best')\n",
    "plt2.title(\"Imdb score distribution of R-rated and PG13-rated movies\")\n",
    "\n",
    "plt2.show()"
   ]
  },
  {
   "cell_type": "code",
   "execution_count": null,
   "metadata": {},
   "outputs": [],
   "source": []
  }
 ],
 "metadata": {
  "kernelspec": {
   "display_name": "Python 3",
   "language": "python",
   "name": "python3"
  },
  "language_info": {
   "codemirror_mode": {
    "name": "ipython",
    "version": 3
   },
   "file_extension": ".py",
   "mimetype": "text/x-python",
   "name": "python",
   "nbconvert_exporter": "python",
   "pygments_lexer": "ipython3",
   "version": "3.8.8"
  }
 },
 "nbformat": 4,
 "nbformat_minor": 4
}
