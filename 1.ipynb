{
 "cells": [
  {
   "cell_type": "markdown",
   "metadata": {
    "colab_type": "text",
    "id": "IkX7wMH9tKe-"
   },
   "source": []
  },
  {
   "cell_type": "markdown",
   "metadata": {
    "colab_type": "text",
    "id": "YvR9nCThtKfA"
   },
   "source": [
    "Print the result of 1.22 multiplied by 49021"
   ]
  },
  {
   "cell_type": "code",
   "execution_count": 0,
   "metadata": {
    "colab": {},
    "colab_type": "code",
    "id": "RLkJCPUUtKfC",
    "outputId": "91157f95-c66a-4270-baa5-7374f1df5cf9"
   },
   "outputs": [],
   "source": [
    "print(1.22 * 49021)"
   ]
  },
  {
   "cell_type": "markdown",
   "metadata": {
    "colab_type": "text",
    "id": "45HjbOmztKfM"
   },
   "source": [
    "Print the result of 214 divided by 6"
   ]
  },
  {
   "cell_type": "code",
   "execution_count": 0,
   "metadata": {
    "colab": {},
    "colab_type": "code",
    "id": "6qroOwo1tKfO",
    "outputId": "776619de-5df3-4159-98a7-b5ef4a4c79a2"
   },
   "outputs": [],
   "source": [
    "print(214 / 6)"
   ]
  },
  {
   "cell_type": "markdown",
   "metadata": {},
   "source": [
    "Print the result of 214 divided by 6, discarding the fractional result"
   ]
  },
  {
   "cell_type": "code",
   "execution_count": null,
   "metadata": {},
   "outputs": [],
   "source": [
    "print(214 // 6)"
   ]
  },
  {
   "cell_type": "markdown",
   "metadata": {
    "colab_type": "text",
    "id": "TrdWdPHotKfU"
   },
   "source": [
    "Print the result of 3 divided by 0.3"
   ]
  },
  {
   "cell_type": "code",
   "execution_count": 0,
   "metadata": {
    "colab": {},
    "colab_type": "code",
    "id": "E5xDkqEFtKfV",
    "outputId": "ec4ddbf2-aec8-4afa-ec3b-77fbad483adb"
   },
   "outputs": [],
   "source": [
    "print(3 / 0.3)"
   ]
  },
  {
   "cell_type": "markdown",
   "metadata": {
    "colab_type": "text",
    "id": "IjkbBOc5tKfY"
   },
   "source": [
    "Print the remainder of 214 divided by 6"
   ]
  },
  {
   "cell_type": "code",
   "execution_count": 0,
   "metadata": {
    "colab": {},
    "colab_type": "code",
    "id": "b0CY0fI0tKfZ",
    "outputId": "80da09da-8a66-4ab9-8fd0-352a26498d46"
   },
   "outputs": [],
   "source": [
    "print(214 % 6)"
   ]
  },
  {
   "cell_type": "markdown",
   "metadata": {
    "colab_type": "text",
    "id": "yZF_pq84tKfc"
   },
   "source": [
    "Print the value of 3 raised to the 11th power"
   ]
  },
  {
   "cell_type": "code",
   "execution_count": 0,
   "metadata": {
    "colab": {},
    "colab_type": "code",
    "id": "-mpw5UxWtKfc",
    "outputId": "d9119b46-b319-4aa0-cdf5-a6f498258c7b"
   },
   "outputs": [],
   "source": [
    "print(3**11)"
   ]
  },
  {
   "cell_type": "markdown",
   "metadata": {
    "colab_type": "text",
    "id": "mWnr8jIKtKff"
   },
   "source": [
    "Print the nearest integer of 3.5"
   ]
  },
  {
   "cell_type": "code",
   "execution_count": 0,
   "metadata": {
    "colab": {},
    "colab_type": "code",
    "id": "cxxjlbcQtKff",
    "outputId": "d9bc1077-3be3-49e2-8641-8d936526790b"
   },
   "outputs": [],
   "source": [
    "round(3.5)"
   ]
  },
  {
   "cell_type": "markdown",
   "metadata": {
    "colab_type": "text",
    "id": "E9lyVlpitKfh"
   },
   "source": [
    "## Data Types Practice"
   ]
  },
  {
   "cell_type": "markdown",
   "metadata": {
    "colab_type": "text",
    "id": "aH9Gm5UDtKfh"
   },
   "source": [
    "Print the data type of \"False\""
   ]
  },
  {
   "cell_type": "code",
   "execution_count": 0,
   "metadata": {
    "colab": {},
    "colab_type": "code",
    "id": "QaCm0SXDtKfi",
    "outputId": "b8ae9f1b-22e8-44ad-b1bf-1179a505d089"
   },
   "outputs": [],
   "source": [
    "type(\"False\")"
   ]
  },
  {
   "cell_type": "markdown",
   "metadata": {
    "colab_type": "text",
    "id": "aMvjtJkBtKfj"
   },
   "source": [
    "Print the data type of True"
   ]
  },
  {
   "cell_type": "code",
   "execution_count": 0,
   "metadata": {
    "colab": {},
    "colab_type": "code",
    "id": "BhoXvmELtKfk",
    "outputId": "f49c356b-4b5f-492e-d398-d0054adf11e4"
   },
   "outputs": [],
   "source": [
    "type(True)"
   ]
  },
  {
   "cell_type": "markdown",
   "metadata": {
    "colab_type": "text",
    "id": "HETSVlmItKfm"
   },
   "source": [
    "Print the data type of the result of 20000 divided by 10"
   ]
  },
  {
   "cell_type": "code",
   "execution_count": 0,
   "metadata": {
    "colab": {},
    "colab_type": "code",
    "id": "dm2a-Z1FtKfm",
    "outputId": "54d2a41e-9a6f-499e-9f41-bad85c26eca3"
   },
   "outputs": [],
   "source": [
    "type(20000 / 10)"
   ]
  },
  {
   "cell_type": "markdown",
   "metadata": {
    "colab_type": "text",
    "id": "dAqWmiIEtKfo"
   },
   "source": [
    "Cast the value of 6.3 divided by 3.8 to an integer and print it"
   ]
  },
  {
   "cell_type": "code",
   "execution_count": 0,
   "metadata": {
    "colab": {},
    "colab_type": "code",
    "id": "4HZTjNs1tKfo",
    "outputId": "0703631f-1567-429f-b45f-9e017572c541"
   },
   "outputs": [],
   "source": [
    "print(int(6.3 / 3.8))"
   ]
  },
  {
   "cell_type": "markdown",
   "metadata": {
    "colab_type": "text",
    "id": "JY8peDaOtKfq"
   },
   "source": [
    "## String Practice"
   ]
  },
  {
   "cell_type": "markdown",
   "metadata": {
    "colab_type": "text",
    "id": "nVMKRKmttKfq"
   },
   "source": [
    "Concatenate and print the strings 'I', 'Love', and 'Python'.  Add a single empty space between the strings."
   ]
  },
  {
   "cell_type": "code",
   "execution_count": 0,
   "metadata": {
    "colab": {},
    "colab_type": "code",
    "id": "tpgUAQm0tKfq",
    "outputId": "f2687491-a084-43c9-bb35-fe6831ac8023"
   },
   "outputs": [],
   "source": [
    "print('I','Love','Python')"
   ]
  },
  {
   "cell_type": "markdown",
   "metadata": {
    "colab_type": "text",
    "id": "f3B5AZZvtKfu"
   },
   "source": [
    "Make the following print statement correct:<br />\n",
    "print(\"4 % 2 = \" + (4 % 2))"
   ]
  },
  {
   "cell_type": "code",
   "execution_count": 0,
   "metadata": {
    "colab": {},
    "colab_type": "code",
    "id": "0j_EsZ0LtKfu",
    "outputId": "f4a55e07-b24e-4b6f-c9a5-a3c7a1bb186d"
   },
   "outputs": [],
   "source": [
    "print('4 % 2 = ' + str(4 % 2))"
   ]
  },
  {
   "cell_type": "markdown",
   "metadata": {
    "colab_type": "text",
    "id": "cD_JuNEgtKfw"
   },
   "source": [
    "Print the following sentences, (including the double quotes):<br />\n",
    "Albert Einstein's best quote is \"I have no special talent. I am only passionately curious.\""
   ]
  },
  {
   "cell_type": "code",
   "execution_count": 0,
   "metadata": {},
   "outputs": [],
   "source": [
    "print(\"Albert Einstein's best quote is \\\"I have no special talent. I am only passionately curious.\\\"\")"
   ]
  },
  {
   "cell_type": "markdown",
   "metadata": {},
   "source": [
    "Print the following sentences, (including the backslashes and double quotes):<br />\n",
    "In Python strings, the backslash (\\\\) is a special character, also called the \"escape\" character.<br />\n",
    "Prefixing a special character (e.g. single quote) with a backslash (\\\\) turns it into an ordinary character."
   ]
  },
  {
   "cell_type": "code",
   "execution_count": null,
   "metadata": {},
   "outputs": [],
   "source": [
    "print(\"In Python strings, the backslash (\\\\) is a special character, also called the \\\"escape\\\" character. \")\n",
    "print(\"Prefixing a special character (e.g. single quote) with a backslash (\\\\) turns it into an ordinary character.\")"
   ]
  }
 ],
 "metadata": {
  "colab": {
   "name": "hw1_solution.ipynb",
   "provenance": []
  },
  "kernelspec": {
   "display_name": "Python 3",
   "language": "python",
   "name": "python3"
  },
  "language_info": {
   "codemirror_mode": {
    "name": "ipython",
    "version": 3
   },
   "file_extension": ".py",
   "mimetype": "text/x-python",
   "name": "python",
   "nbconvert_exporter": "python",
   "pygments_lexer": "ipython3",
   "version": "3.8.8"
  }
 },
 "nbformat": 4,
 "nbformat_minor": 4
}
